{
 "cells": [
  {
   "cell_type": "code",
   "execution_count": 80,
   "metadata": {},
   "outputs": [],
   "source": [
    "import os\n",
    "import random\n",
    "import numpy as np\n",
    "from matplotlib import pyplot as plt\n",
    "from tensorflow.keras.models import Model\n",
    "from tensorflow.keras.layers import Layer, Conv2D, Dense, MaxPool2D, Input, Flatten\n",
    "import tensorflow as tf\n",
    "import uuid\n",
    "from importlib import reload"
   ]
  },
  {
   "cell_type": "markdown",
   "metadata": {},
   "source": [
    "#### Preprocessing"
   ]
  },
  {
   "cell_type": "code",
   "execution_count": 81,
   "metadata": {},
   "outputs": [],
   "source": [
    "# define paths to the images\n",
    "POS_PATH = os.path.join(\"data\", \"positive\")\n",
    "NEG_PATH = os.path.join(\"data\", \"negative\")\n",
    "ANC_PATH = os.path.join(\"data\", \"anchor\")"
   ]
  },
  {
   "cell_type": "code",
   "execution_count": 82,
   "metadata": {},
   "outputs": [],
   "source": [
    "# Create a Tensorflow dataset of 300 images for each category (anchor/reference, positive, negative).\n",
    "n_images = 300\n",
    "anchor = tf.data.Dataset.list_files(ANC_PATH + \"/*.jpg\").take(n_images)\n",
    "positive = tf.data.Dataset.list_files(POS_PATH + \"/*.jpg\").take(n_images)\n",
    "negative = tf.data.Dataset.list_files(NEG_PATH + \"/*.jpg\").take(n_images)\n"
   ]
  },
  {
   "cell_type": "code",
   "execution_count": 83,
   "metadata": {},
   "outputs": [
    {
     "data": {
      "text/plain": [
       "[(1, 4), (2, 5), (3, 6)]"
      ]
     },
     "execution_count": 83,
     "metadata": {},
     "output_type": "execute_result"
    }
   ],
   "source": [
    "# zip functions\n",
    "a = [1,2,3]\n",
    "b = [4,5,6]\n",
    "list(zip(a,b))"
   ]
  },
  {
   "cell_type": "code",
   "execution_count": 85,
   "metadata": {},
   "outputs": [],
   "source": [
    "# create Labels  (positiv = 1, negativ = 0)\n",
    "positives = tf.data.Dataset.zip(\n",
    "    (anchor, positive, tf.data.Dataset.from_tensor_slices(tf.ones(len(anchor)))))\n",
    "negatives = tf.data.Dataset.zip(\n",
    "    (anchor, negative, tf.data.Dataset.from_tensor_slices(tf.zeros(len(anchor)))))"
   ]
  },
  {
   "cell_type": "code",
   "execution_count": 86,
   "metadata": {},
   "outputs": [],
   "source": [
    "# Merge negative and positive data points into one data set\n",
    "data = positives.concatenate(negatives)\n",
    "samples = data.as_numpy_iterator()"
   ]
  },
  {
   "cell_type": "code",
   "execution_count": 87,
   "metadata": {},
   "outputs": [
    {
     "data": {
      "text/plain": [
       "(b'data/anchor/6175ab80-2eee-11ed-bf64-d6a168035f6b.jpg',\n",
       " b'data/positive/50184f2e-30e6-11ed-b734-d6a168035f6b.jpg',\n",
       " 1.0)"
      ]
     },
     "execution_count": 87,
     "metadata": {},
     "output_type": "execute_result"
    }
   ],
   "source": [
    "samples.next()"
   ]
  },
  {
   "cell_type": "code",
   "execution_count": 57,
   "metadata": {},
   "outputs": [],
   "source": [
    "# Define functions for preprocessing the images and apply them to the dataset.\n",
    "IMG_SIZE = 105\n",
    "def preprocess(file_path: str, img_size: int = IMG_SIZE) -> np.ndarray:\n",
    "    byte_img = tf.io.read_file(file_path)\n",
    "    img = tf.io.decode_jpeg(byte_img)\n",
    "    img = tf.image.resize(img, (img_size, img_size))\n",
    "    img = img / 255.0\n",
    "    return img\n",
    "\n",
    "def preprocess_twin(input_img, validation_img, label):\n",
    "    return preprocess(input_img), preprocess(validation_img), label\n",
    "\n",
    "data = data.map(preprocess_twin)"
   ]
  },
  {
   "cell_type": "code",
   "execution_count": 58,
   "metadata": {},
   "outputs": [],
   "source": [
    "# Shuffle dataset (so that the positives and negatives are evenly distributed)\n",
    "data = data.cache()\n",
    "data = data.shuffle(buffer_size=1024)"
   ]
  },
  {
   "cell_type": "code",
   "execution_count": 59,
   "metadata": {},
   "outputs": [],
   "source": [
    "# 70-30 train-test-split\n",
    "train_data = data.take(round(len(data) * 0.7))\n",
    "train_data_iter = train_data.batch(16)\n",
    "train_data_iter = train_data_iter.prefetch(8)\n",
    "\n",
    "test_data = data.skip(round(len(data)*0.7))\n",
    "test_data_iter = test_data.batch(16)\n",
    "test_data_iter = test_data_iter.prefetch(8)"
   ]
  },
  {
   "cell_type": "markdown",
   "metadata": {},
   "source": [
    "#### Modell"
   ]
  },
  {
   "cell_type": "code",
   "execution_count": 88,
   "metadata": {},
   "outputs": [
    {
     "name": "stdout",
     "output_type": "stream",
     "text": [
      "Model: \"embedding\"\n",
      "_________________________________________________________________\n",
      " Layer (type)                Output Shape              Param #   \n",
      "=================================================================\n",
      " input_8 (InputLayer)        [(None, 105, 105, 3)]     0         \n",
      "                                                                 \n",
      " conv2d_28 (Conv2D)          (None, 96, 96, 64)        19264     \n",
      "                                                                 \n",
      " max_pooling2d_21 (MaxPoolin  (None, 48, 48, 64)       0         \n",
      " g2D)                                                            \n",
      "                                                                 \n",
      " conv2d_29 (Conv2D)          (None, 42, 42, 128)       401536    \n",
      "                                                                 \n",
      " max_pooling2d_22 (MaxPoolin  (None, 21, 21, 128)      0         \n",
      " g2D)                                                            \n",
      "                                                                 \n",
      " conv2d_30 (Conv2D)          (None, 18, 18, 128)       262272    \n",
      "                                                                 \n",
      " max_pooling2d_23 (MaxPoolin  (None, 9, 9, 128)        0         \n",
      " g2D)                                                            \n",
      "                                                                 \n",
      " conv2d_31 (Conv2D)          (None, 6, 6, 256)         524544    \n",
      "                                                                 \n",
      " flatten_7 (Flatten)         (None, 9216)              0         \n",
      "                                                                 \n",
      " dense_14 (Dense)            (None, 4096)              37752832  \n",
      "                                                                 \n",
      "=================================================================\n",
      "Total params: 38,960,448\n",
      "Trainable params: 38,960,448\n",
      "Non-trainable params: 0\n",
      "_________________________________________________________________\n"
     ]
    }
   ],
   "source": [
    "# define the \"twin-CNNs\"\n",
    "def make_embedding(img_size: int = IMG_SIZE):\n",
    "    inp = Input(shape=(img_size, img_size, 3))\n",
    "    c1 = Conv2D(64, (10, 10), activation=\"relu\")(inp)\n",
    "    m1 = MaxPool2D(64, (2, 2), padding=\"same\")(c1)\n",
    "    c2 = Conv2D(128, (7, 7), activation=\"relu\")(m1)\n",
    "    m2 = MaxPool2D(64, (2, 2), padding=\"same\")(c2)\n",
    "    c3 = Conv2D(128, (4, 4), activation=\"relu\")(m2)\n",
    "    m3 = MaxPool2D(64, (2, 2), padding=\"same\")(c3)\n",
    "    c4 = Conv2D(256, (4, 4), activation=\"relu\")(m3)\n",
    "    f1 = Flatten()(c4)\n",
    "    d1 = Dense(4096, activation=\"sigmoid\")(f1)\n",
    "    return Model(inputs=[inp], outputs=[d1], name=\"embedding\")\n",
    "\n",
    "embedding = make_embedding()\n",
    "embedding.summary()"
   ]
  },
  {
   "cell_type": "code",
   "execution_count": 61,
   "metadata": {},
   "outputs": [],
   "source": [
    "# Define own layer: Absolute distances between both vectors\n",
    "class L1Dist(Layer):\n",
    "    def __init__(self, **kwargs) -> None:\n",
    "        super().__init__()\n",
    "\n",
    "    def call(self, input_embedding, validation_embedding):\n",
    "        return tf.math.abs(input_embedding - validation_embedding)\n"
   ]
  },
  {
   "cell_type": "code",
   "execution_count": 62,
   "metadata": {},
   "outputs": [
    {
     "name": "stdout",
     "output_type": "stream",
     "text": [
      "Model: \"SiameseNetwork\"\n",
      "__________________________________________________________________________________________________\n",
      " Layer (type)                   Output Shape         Param #     Connected to                     \n",
      "==================================================================================================\n",
      " input_img (InputLayer)         [(None, 105, 105, 3  0           []                               \n",
      "                                )]                                                                \n",
      "                                                                                                  \n",
      " validation_img (InputLayer)    [(None, 105, 105, 3  0           []                               \n",
      "                                )]                                                                \n",
      "                                                                                                  \n",
      " embedding (Functional)         (None, 4096)         38960448    ['input_img[0][0]',              \n",
      "                                                                  'validation_img[0][0]']         \n",
      "                                                                                                  \n",
      " distance (L1Dist)              (None, 4096)         0           ['embedding[0][0]',              \n",
      "                                                                  'embedding[1][0]']              \n",
      "                                                                                                  \n",
      " dense_11 (Dense)               (None, 1)            4097        ['distance[0][0]']               \n",
      "                                                                                                  \n",
      "==================================================================================================\n",
      "Total params: 38,964,545\n",
      "Trainable params: 38,964,545\n",
      "Non-trainable params: 0\n",
      "__________________________________________________________________________________________________\n"
     ]
    }
   ],
   "source": [
    "# Whole model\n",
    "def make_siamese_model(img_size: int = IMG_SIZE):\n",
    "\n",
    "    # Achor\n",
    "    input_image = Input(name=\"input_img\", shape=(img_size, img_size, 3))\n",
    "    # Validation\n",
    "    validation_image = Input(name=\"validation_img\", shape = (img_size,img_size,3))\n",
    "\n",
    "    siamese_layer = L1Dist()\n",
    "    siamese_layer._name = \"distance\"\n",
    "    distances = siamese_layer(embedding(input_image), embedding(validation_image))\n",
    "\n",
    "    classifier = Dense(1, activation = \"sigmoid\")(distances)\n",
    "\n",
    "    return Model(inputs=[input_image, validation_image], outputs = classifier, name = \"SiameseNetwork\")\n",
    "\n",
    "siamese_model = make_siamese_model()\n",
    "siamese_model.summary()"
   ]
  },
  {
   "cell_type": "code",
   "execution_count": 63,
   "metadata": {},
   "outputs": [],
   "source": [
    "# Loss-Function\n",
    "binary_cross_loss = tf.losses.BinaryCrossentropy()\n",
    "\n",
    "# Optimizer\n",
    "opt = tf.keras.optimizers.Adam(1e-4)"
   ]
  },
  {
   "cell_type": "code",
   "execution_count": 64,
   "metadata": {},
   "outputs": [],
   "source": [
    "checkpoint_dir = \"./training_checkpoints\"\n",
    "checkpoint_prefix = os.path.join(checkpoint_dir, \"ckpt\")\n",
    "checkpoint = tf.train.Checkpoint(opt = opt, siamese_model = siamese_model)"
   ]
  },
  {
   "cell_type": "code",
   "execution_count": 93,
   "metadata": {},
   "outputs": [
    {
     "data": {
      "text/plain": [
       "1.0"
      ]
     },
     "execution_count": 93,
     "metadata": {},
     "output_type": "execute_result"
    }
   ],
   "source": [
    "samples.next()[2]"
   ]
  },
  {
   "cell_type": "code",
   "execution_count": 91,
   "metadata": {},
   "outputs": [
    {
     "data": {
      "text/plain": [
       "['a', 'b']"
      ]
     },
     "execution_count": 91,
     "metadata": {},
     "output_type": "execute_result"
    }
   ],
   "source": [
    "test_lst = [\"a\",\"b\",\"c\"]\n",
    "test_lst[:2]"
   ]
  },
  {
   "cell_type": "code",
   "execution_count": 65,
   "metadata": {},
   "outputs": [],
   "source": [
    "@tf.function\n",
    "def train_step(batch):\n",
    "    with tf.GradientTape() as tape:\n",
    "        X = batch[:2]\n",
    "        y = batch[2]\n",
    "\n",
    "        yhat = siamese_model(X, training = True)\n",
    "        loss = binary_cross_loss(y, yhat)\n",
    "\n",
    "    \n",
    "    grad = tape.gradient(loss, siamese_model.trainable_variables)\n",
    "\n",
    "    opt.apply_gradients(zip(grad, siamese_model.trainable_variables))\n",
    "\n",
    "    return loss"
   ]
  },
  {
   "cell_type": "code",
   "execution_count": 94,
   "metadata": {},
   "outputs": [],
   "source": [
    "def train(data, EPOCHS):\n",
    "    for epoch in range(1,EPOCHS + 1):\n",
    "        print(f\"\\nEpoch {epoch}/{EPOCHS}\")\n",
    "        progbar = tf.keras.utils.Progbar(len(data))\n",
    "\n",
    "        for idx, batch in enumerate(data):\n",
    "            train_step(batch)\n",
    "            progbar.update(idx + 1)\n",
    "\n",
    "        if epoch % 10 == 0:\n",
    "            checkpoint.save(file_prefix=checkpoint_prefix)"
   ]
  },
  {
   "cell_type": "code",
   "execution_count": null,
   "metadata": {},
   "outputs": [],
   "source": [
    "EPOCHS = 51\n",
    "\n",
    "file_name = f\"trained_models_105/siamesemodel_{n_images}_{EPOCHS}.h5\"\n",
    "\n",
    "if os.path.exists(file_name):\n",
    "    print(f\"The file name '{file_name}' already exists.\")\n",
    "else:\n",
    "    \"\"\"Nur ausführen, wenn das Modell trainiert werden soll. \n",
    "    Ansonsten das vortrainierte Netz verwenden (siehe Evaluation).\n",
    "    \"\"\"\n",
    "    #train(train_data_iter, EPOCHS)\n",
    "    #siamese_model.save(file_name)\n",
    "    pass"
   ]
  },
  {
   "cell_type": "code",
   "execution_count": null,
   "metadata": {},
   "outputs": [],
   "source": []
  },
  {
   "cell_type": "markdown",
   "metadata": {},
   "source": [
    "### Evaluation"
   ]
  },
  {
   "cell_type": "code",
   "execution_count": 103,
   "metadata": {},
   "outputs": [
    {
     "name": "stdout",
     "output_type": "stream",
     "text": [
      "WARNING:tensorflow:No training configuration found in the save file, so the model was *not* compiled. Compile it manually.\n"
     ]
    }
   ],
   "source": [
    "# Load parameters from the already trained model\n",
    "model = tf.keras.models.load_model(\"trained_models_105/siamesemodel_300_50.h5\", custom_objects = {\"L1Dist\": L1Dist, \"BinaryCrossentropy\": tf.losses.BinaryCrossentropy})\n",
    "embedding_pre_trained = make_embedding()\n",
    "embedding_pre_trained.set_weights(model.layers[2].get_weights())\n",
    "siamese_model_pre_trained = make_siamese_model()\n",
    "siamese_model_pre_trained.set_weights(model.get_weights())"
   ]
  },
  {
   "cell_type": "code",
   "execution_count": 104,
   "metadata": {},
   "outputs": [],
   "source": [
    "# transform test data\n",
    "test_data_unzip = list(zip(*test_data.as_numpy_iterator()))\n",
    "\n",
    "test_data_1 = np.concatenate(test_data_unzip[0]).reshape((int(2 * n_images * 0.3),IMG_SIZE,IMG_SIZE,3))\n",
    "test_data_2 = np.concatenate(test_data_unzip[1]).reshape((int(2 * n_images * 0.3),IMG_SIZE,IMG_SIZE,3))\n",
    "test_label = np.expand_dims(np.array(test_data_unzip[2]), axis = 1)"
   ]
  },
  {
   "cell_type": "markdown",
   "metadata": {},
   "source": [
    "#### Evaluation auf einzelnen Datenpunkten"
   ]
  },
  {
   "cell_type": "code",
   "execution_count": null,
   "metadata": {},
   "outputs": [],
   "source": [
    "n_test = 4\n",
    "\n",
    "test_pred = model.predict([test_data_1[:n_test], test_data_2[:n_test]]).flatten()\n",
    "\n",
    "# True if probability > 0.5 (and False if p <= 0.5)\n",
    "test_pred_bool = test_pred > 0.5\n",
    "print(tuple(test_pred))\n",
    "print(tuple(test_pred_bool))"
   ]
  },
  {
   "cell_type": "code",
   "execution_count": null,
   "metadata": {},
   "outputs": [],
   "source": [
    "w = 10\n",
    "h = 10\n",
    "fig = plt.figure(figsize=(10, 5))\n",
    "for i in range(n_test):\n",
    "    fig.add_subplot(2, n_test, i + 1)\n",
    "    plt.imshow(test_data_1[i])\n",
    "    plt.title(f\"Pred: {bool(test_pred_bool[i])}\")\n",
    "for i in range(n_test):\n",
    "    fig.add_subplot(2, n_test, i + 1 + n_test)\n",
    "    plt.imshow(test_data_2[i])\n",
    "plt.show()"
   ]
  },
  {
   "cell_type": "markdown",
   "metadata": {},
   "source": [
    "#### Evaluation on the entire test data set"
   ]
  },
  {
   "cell_type": "code",
   "execution_count": 107,
   "metadata": {},
   "outputs": [],
   "source": [
    "# Repetition: Accuracy describes the proportion of correct classifications in the total test data"
   ]
  },
  {
   "cell_type": "markdown",
   "metadata": {},
   "source": [
    " $accuracy = \\frac{TP + TN}{TP + TN + FP + FN}$, TP = true positive,..."
   ]
  },
  {
   "cell_type": "code",
   "execution_count": null,
   "metadata": {},
   "outputs": [],
   "source": [
    "# Calculate predictions of all test data\n",
    "pred = siamese_model_pre_trained.predict([test_data_1, test_data_2])\n",
    "pred_bool = (pred > 0.5).astype(np.float32)"
   ]
  },
  {
   "cell_type": "code",
   "execution_count": 109,
   "metadata": {},
   "outputs": [
    {
     "name": "stdout",
     "output_type": "stream",
     "text": [
      "Accuracy: 0.9833\n"
     ]
    }
   ],
   "source": [
    "# true positives and true negatives\n",
    "tp_tn = len(test_data) - np.abs(test_label - pred_bool).sum()\n",
    "accuracy = tp_tn / len(test_data)\n",
    "print(\"Accuracy:\", accuracy.round(4))"
   ]
  },
  {
   "cell_type": "code",
   "execution_count": null,
   "metadata": {},
   "outputs": [],
   "source": []
  },
  {
   "cell_type": "code",
   "execution_count": null,
   "metadata": {},
   "outputs": [],
   "source": []
  },
  {
   "cell_type": "code",
   "execution_count": null,
   "metadata": {},
   "outputs": [],
   "source": []
  },
  {
   "cell_type": "code",
   "execution_count": null,
   "metadata": {},
   "outputs": [],
   "source": []
  },
  {
   "cell_type": "code",
   "execution_count": null,
   "metadata": {},
   "outputs": [],
   "source": []
  },
  {
   "cell_type": "markdown",
   "metadata": {},
   "source": [
    "### Details"
   ]
  },
  {
   "cell_type": "code",
   "execution_count": 165,
   "metadata": {},
   "outputs": [
    {
     "data": {
      "image/png": "[encoded data removed]",
      "text/plain": [
       "<Figure size 432x216 with 2 Axes>"
      ]
     },
     "metadata": {
      "needs_background": "light"
     },
     "output_type": "display_data"
    }
   ],
   "source": [
    "import image_generator\n",
    "reload(image_generator)\n",
    "from image_generator import read_image\n",
    "\n",
    "fig = plt.figure(figsize=(6, 3))\n",
    "#test_1 = test_data_1[2]\n",
    "#test_2 = test_data_2[5]\n",
    "test_1 = read_image(\"data/additional/Brad_Pitt_2019_by_Glenn_Francis.jpg\")\n",
    "#test_2 = test_1\n",
    "test_2 = read_image(\"data/additional/3773139-2.jpg\")\n",
    "rand_lst = [test_1, test_2]\n",
    "for i in range(len(rand_lst)):\n",
    "    fig.add_subplot(1, len(rand_lst), i + 1)\n",
    "    plt.imshow(rand_lst[i])\n",
    "plt.show()"
   ]
  },
  {
   "cell_type": "code",
   "execution_count": 166,
   "metadata": {},
   "outputs": [
    {
     "name": "stdout",
     "output_type": "stream",
     "text": [
      "1/1 [==============================] - 0s 150ms/step\n"
     ]
    },
    {
     "data": {
      "text/plain": [
       "array([[0.9949523]], dtype=float32)"
      ]
     },
     "execution_count": 166,
     "metadata": {},
     "output_type": "execute_result"
    }
   ],
   "source": [
    "siamese_model_pre_trained.predict([test_1.reshape((1,IMG_SIZE,IMG_SIZE,3)), test_2.reshape((1,IMG_SIZE,IMG_SIZE,3))])"
   ]
  },
  {
   "cell_type": "code",
   "execution_count": 162,
   "metadata": {},
   "outputs": [
    {
     "name": "stdout",
     "output_type": "stream",
     "text": [
      "Bias in last layer: 0.03501904\n"
     ]
    }
   ],
   "source": [
    "weights = siamese_model_pre_trained.layers[4].get_weights()[0]\n",
    "bias = siamese_model_pre_trained.layers[4].get_weights()[1]\n",
    "print(\"Bias in last layer:\", bias[0])"
   ]
  },
  {
   "cell_type": "code",
   "execution_count": 163,
   "metadata": {},
   "outputs": [
    {
     "name": "stdout",
     "output_type": "stream",
     "text": [
      "1/1 [==============================] - 0s 140ms/step\n",
      "1/1 [==============================] - 0s 143ms/step\n"
     ]
    },
    {
     "data": {
      "text/plain": [
       "array([[0.30350223, 0.10333079, 0.26273572, ..., 0.01424279, 0.06182598,\n",
       "        0.09205101]], dtype=float32)"
      ]
     },
     "execution_count": 163,
     "metadata": {},
     "output_type": "execute_result"
    }
   ],
   "source": [
    "emb1 = embedding_pre_trained.predict(test_1.reshape((1,IMG_SIZE,IMG_SIZE,3)))\n",
    "emb2 = embedding_pre_trained.predict(test_2.reshape((1,IMG_SIZE,IMG_SIZE,3)))\n",
    "\n",
    "dist = L1Dist()(emb1, emb2)\n",
    "dist.numpy()"
   ]
  },
  {
   "cell_type": "code",
   "execution_count": 164,
   "metadata": {},
   "outputs": [
    {
     "data": {
      "text/plain": [
       "array([[0.9949524]], dtype=float32)"
      ]
     },
     "execution_count": 164,
     "metadata": {},
     "output_type": "execute_result"
    }
   ],
   "source": [
    "tf.sigmoid(np.matmul(np.array(dist), weights) + bias).numpy()"
   ]
  },
  {
   "cell_type": "code",
   "execution_count": null,
   "metadata": {},
   "outputs": [],
   "source": []
  }
 ],
 "metadata": {
  "kernelspec": {
   "display_name": "face_id_app_env",
   "language": "python",
   "name": "face_id_app_env"
  },
  "language_info": {
   "codemirror_mode": {
    "name": "ipython",
    "version": 3
   },
   "file_extension": ".py",
   "mimetype": "text/x-python",
   "name": "python",
   "nbconvert_exporter": "python",
   "pygments_lexer": "ipython3",
   "version": "3.9.7"
  },
  "vscode": {
   "interpreter": {
    "hash": "eb83ee7bbeac1d61db712ab0cd1f560306296120a39dbe00d51450402a8c1d1e"
   }
  }
 },
 "nbformat": 4,
 "nbformat_minor": 4
}
