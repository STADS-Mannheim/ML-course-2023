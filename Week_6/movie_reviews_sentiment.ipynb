{
  "cells": [
    {
      "cell_type": "code",
      "execution_count": 1,
      "metadata": {
        "colab": {
          "base_uri": "https://localhost:8080/",
          "height": 34
        },
        "colab_type": "code",
        "id": "vCLPWsHOMIYV",
        "outputId": "426a74c4-1409-41b7-96e7-2756c491581f"
      },
      "outputs": [
        {
          "name": "stderr",
          "output_type": "stream",
          "text": [
            "2022-11-10 18:01:42.316446: I tensorflow/core/platform/cpu_feature_guard.cc:193] This TensorFlow binary is optimized with oneAPI Deep Neural Network Library (oneDNN) to use the following CPU instructions in performance-critical operations:  AVX2 FMA\n",
            "To enable them in other operations, rebuild TensorFlow with the appropriate compiler flags.\n"
          ]
        }
      ],
      "source": [
        "import pandas as pd\n",
        "import numpy as np\n",
        "import re\n",
        "import nltk\n",
        "from nltk.corpus import stopwords\n",
        "\n",
        "from numpy import array\n",
        "from tensorflow.keras.preprocessing.text import one_hot\n",
        "from tensorflow.keras.preprocessing.sequence import pad_sequences\n",
        "from tensorflow.keras.models import Sequential\n",
        "from tensorflow.keras.layers import Activation, Dropout, Dense\n",
        "from tensorflow.keras.layers import Flatten, LSTM\n",
        "from tensorflow.keras.layers import GlobalMaxPooling1D\n",
        "from tensorflow.keras.layers import Embedding\n",
        "from sklearn.model_selection import train_test_split\n",
        "from tensorflow.keras.preprocessing.text import Tokenizer\n",
        "import tensorflow as tf\n",
        "\n",
        "import matplotlib.pyplot as plt\n",
        "import seaborn as sns"
      ]
    },
    {
      "cell_type": "code",
      "execution_count": 2,
      "metadata": {},
      "outputs": [],
      "source": [
        "# !wget http://nlp.stanford.edu/data/glove.6B.zip\n",
        "# !unzip -q glove.6B.zip"
      ]
    },
    {
      "cell_type": "markdown",
      "metadata": {},
      "source": [
        "data:\n",
        "https://www.kaggle.com/datasets/lakshmi25npathi/imdb-dataset-of-50k-movie-reviews?resource=download"
      ]
    },
    {
      "cell_type": "code",
      "execution_count": 2,
      "metadata": {
        "colab": {
          "base_uri": "https://localhost:8080/",
          "height": 34
        },
        "colab_type": "code",
        "id": "QgBuHn7xMeLK",
        "outputId": "30493408-d088-4383-8807-679f8635955b"
      },
      "outputs": [
        {
          "name": "stdout",
          "output_type": "stream",
          "text": [
            "False\n"
          ]
        },
        {
          "data": {
            "text/plain": [
              "(50000, 2)"
            ]
          },
          "execution_count": 2,
          "metadata": {},
          "output_type": "execute_result"
        }
      ],
      "source": [
        "movie_reviews = pd.read_csv(\"IMDB Dataset.csv\")\n",
        "\n",
        "print(movie_reviews.isnull().values.any())\n",
        "\n",
        "movie_reviews.shape"
      ]
    },
    {
      "cell_type": "code",
      "execution_count": 3,
      "metadata": {
        "colab": {
          "base_uri": "https://localhost:8080/",
          "height": 204
        },
        "colab_type": "code",
        "id": "ZTTMaLLrMxqU",
        "outputId": "60c75277-4132-479a-ed07-0e054d9a05a8"
      },
      "outputs": [
        {
          "data": {
            "text/html": [
              "<div>\n",
              "<style scoped>\n",
              "    .dataframe tbody tr th:only-of-type {\n",
              "        vertical-align: middle;\n",
              "    }\n",
              "\n",
              "    .dataframe tbody tr th {\n",
              "        vertical-align: top;\n",
              "    }\n",
              "\n",
              "    .dataframe thead th {\n",
              "        text-align: right;\n",
              "    }\n",
              "</style>\n",
              "<table border=\"1\" class=\"dataframe\">\n",
              "  <thead>\n",
              "    <tr style=\"text-align: right;\">\n",
              "      <th></th>\n",
              "      <th>review</th>\n",
              "      <th>sentiment</th>\n",
              "    </tr>\n",
              "  </thead>\n",
              "  <tbody>\n",
              "    <tr>\n",
              "      <th>0</th>\n",
              "      <td>One of the other reviewers has mentioned that ...</td>\n",
              "      <td>positive</td>\n",
              "    </tr>\n",
              "    <tr>\n",
              "      <th>1</th>\n",
              "      <td>A wonderful little production. &lt;br /&gt;&lt;br /&gt;The...</td>\n",
              "      <td>positive</td>\n",
              "    </tr>\n",
              "    <tr>\n",
              "      <th>2</th>\n",
              "      <td>I thought this was a wonderful way to spend ti...</td>\n",
              "      <td>positive</td>\n",
              "    </tr>\n",
              "    <tr>\n",
              "      <th>3</th>\n",
              "      <td>Basically there's a family where a little boy ...</td>\n",
              "      <td>negative</td>\n",
              "    </tr>\n",
              "    <tr>\n",
              "      <th>4</th>\n",
              "      <td>Petter Mattei's \"Love in the Time of Money\" is...</td>\n",
              "      <td>positive</td>\n",
              "    </tr>\n",
              "  </tbody>\n",
              "</table>\n",
              "</div>"
            ],
            "text/plain": [
              "                                              review sentiment\n",
              "0  One of the other reviewers has mentioned that ...  positive\n",
              "1  A wonderful little production. <br /><br />The...  positive\n",
              "2  I thought this was a wonderful way to spend ti...  positive\n",
              "3  Basically there's a family where a little boy ...  negative\n",
              "4  Petter Mattei's \"Love in the Time of Money\" is...  positive"
            ]
          },
          "execution_count": 3,
          "metadata": {},
          "output_type": "execute_result"
        }
      ],
      "source": [
        "movie_reviews.head()"
      ]
    },
    {
      "cell_type": "code",
      "execution_count": 4,
      "metadata": {
        "colab": {
          "base_uri": "https://localhost:8080/",
          "height": 54
        },
        "colab_type": "code",
        "id": "7yF6PUtlM6Qn",
        "outputId": "27df979d-97ca-47e0-851f-d739bd28791b"
      },
      "outputs": [
        {
          "data": {
            "text/plain": [
              "\"Basically there's a family where a little boy (Jake) thinks there's a zombie in his closet & his parents are fighting all the time.<br /><br />This movie is slower than a soap opera... and suddenly, Jake decides to become Rambo and kill the zombie.<br /><br />OK, first of all when you're going to make a film you must Decide if its a thriller or a drama! As a drama the movie is watchable. Parents are divorcing & arguing like in real life. And then we have Jake with his closet which totally ruins all the film! I expected to see a BOOGEYMAN similar movie, and instead i watched a drama with some meaningless thriller spots.<br /><br />3 out of 10 just for the well playing parents & descent dialogs. As for the shots with Jake: just ignore them.\""
            ]
          },
          "execution_count": 4,
          "metadata": {},
          "output_type": "execute_result"
        }
      ],
      "source": [
        "movie_reviews[\"review\"][3]"
      ]
    },
    {
      "cell_type": "code",
      "execution_count": 5,
      "metadata": {
        "colab": {},
        "colab_type": "code",
        "id": "6SJFfr5rNCTz"
      },
      "outputs": [],
      "source": [
        "TAG_RE = re.compile(r'<[^>]+>')\n",
        "\n",
        "def remove_tags(text):\n",
        "    return TAG_RE.sub('', text)"
      ]
    },
    {
      "cell_type": "code",
      "execution_count": 6,
      "metadata": {
        "colab": {},
        "colab_type": "code",
        "id": "otXidhs2Nqpk"
      },
      "outputs": [],
      "source": [
        "def preprocess_text(sen):\n",
        "    # Removing html tags\n",
        "    sentence = remove_tags(sen)\n",
        "\n",
        "    # Remove punctuations and numbers\n",
        "    sentence = re.sub('[^a-zA-Z]', ' ', sentence)\n",
        "\n",
        "    # Single character removal\n",
        "    sentence = re.sub(r\"\\s+[a-zA-Z]\\s+\", ' ', sentence)\n",
        "\n",
        "    # Removing multiple spaces\n",
        "    sentence = re.sub(r'\\s+', ' ', sentence)\n",
        "\n",
        "    return sentence"
      ]
    },
    {
      "cell_type": "code",
      "execution_count": 7,
      "metadata": {},
      "outputs": [],
      "source": [
        "X=movie_reviews['review'].apply(lambda review: preprocess_text(review)).values"
      ]
    },
    {
      "cell_type": "code",
      "execution_count": 8,
      "metadata": {
        "colab": {
          "base_uri": "https://localhost:8080/",
          "height": 54
        },
        "colab_type": "code",
        "id": "ltzm1kDkN2jp",
        "outputId": "1a823da2-c172-4184-ed8a-183d1dac5fdc"
      },
      "outputs": [
        {
          "data": {
            "text/plain": [
              "'Basically there a family where little boy Jake thinks there a zombie in his closet his parents are fighting all the time This movie is slower than soap opera and suddenly Jake decides to become Rambo and kill the zombie OK first of all when you re going to make film you must Decide if its thriller or drama As drama the movie is watchable Parents are divorcing arguing like in real life And then we have Jake with his closet which totally ruins all the film expected to see BOOGEYMAN similar movie and instead watched drama with some meaningless thriller spots out of just for the well playing parents descent dialogs As for the shots with Jake just ignore them '"
            ]
          },
          "execution_count": 8,
          "metadata": {},
          "output_type": "execute_result"
        }
      ],
      "source": [
        "X[3]"
      ]
    },
    {
      "cell_type": "code",
      "execution_count": 9,
      "metadata": {
        "colab": {},
        "colab_type": "code",
        "id": "cF80oeJMN9x3"
      },
      "outputs": [],
      "source": [
        "y = movie_reviews['sentiment']\n",
        "\n",
        "y = np.array(list(map(lambda x: 1 if x==\"positive\" else 0, y)))"
      ]
    },
    {
      "cell_type": "code",
      "execution_count": 11,
      "metadata": {},
      "outputs": [
        {
          "name": "stdout",
          "output_type": "stream",
          "text": [
            "[0 1]\n"
          ]
        },
        {
          "data": {
            "text/plain": [
              "array([25000, 25000])"
            ]
          },
          "execution_count": 11,
          "metadata": {},
          "output_type": "execute_result"
        }
      ],
      "source": [
        "unique,counts= np.unique(y,return_counts=True)\n",
        "print(unique)\n",
        "counts"
      ]
    },
    {
      "cell_type": "code",
      "execution_count": 12,
      "metadata": {
        "colab": {},
        "colab_type": "code",
        "id": "beHFmJFCOTxG"
      },
      "outputs": [],
      "source": [
        "X_train, X_test, y_train, y_test = train_test_split(X, y, test_size=0.20, random_state=42)\n"
      ]
    },
    {
      "cell_type": "code",
      "execution_count": 13,
      "metadata": {},
      "outputs": [
        {
          "data": {
            "text/plain": [
              "Text(0.5, 1.0, 'Words Number Distribution')"
            ]
          },
          "execution_count": 13,
          "metadata": {},
          "output_type": "execute_result"
        },
        {
          "data": {
            "image/png": "[encoded data removed]",
            "text/plain": [
              "<Figure size 640x480 with 1 Axes>"
            ]
          },
          "metadata": {},
          "output_type": "display_data"
        }
      ],
      "source": [
        "# how long are reviews\n",
        "sns.histplot(data=[len(x.split(\" \")) for x in X_train], color='blue').set_title('Words Number Distribution')\n"
      ]
    },
    {
      "cell_type": "code",
      "execution_count": 14,
      "metadata": {
        "colab": {},
        "colab_type": "code",
        "id": "isSFEIK7OV4z"
      },
      "outputs": [],
      "source": [
        "# tokenizer = Tokenizer(num_words=10000)\n",
        "# tokenizer.fit_on_texts(X_train)\n",
        "\n",
        "# X_train = tokenizer.texts_to_sequences(X_train)\n",
        "# X_test = tokenizer.texts_to_sequences(X_test)\n",
        "\n",
        "# Adding 1 because of reserved 0 index\n",
        "# vocab_size = len(tokenizer.word_index) + 1\n",
        "\n",
        "# maxlen = 256\n",
        "\n",
        "# X_train = pad_sequences(X_train, padding='post', maxlen=maxlen)\n",
        "# X_test = pad_sequences(X_test, padding='post', maxlen=maxlen)"
      ]
    },
    {
      "cell_type": "code",
      "execution_count": 14,
      "metadata": {},
      "outputs": [
        {
          "name": "stderr",
          "output_type": "stream",
          "text": [
            "2022-11-10 18:14:59.233449: I tensorflow/core/platform/cpu_feature_guard.cc:193] This TensorFlow binary is optimized with oneAPI Deep Neural Network Library (oneDNN) to use the following CPU instructions in performance-critical operations:  AVX2 FMA\n",
            "To enable them in other operations, rebuild TensorFlow with the appropriate compiler flags.\n"
          ]
        }
      ],
      "source": [
        "BUFFER_SIZE = 10000\n",
        "BATCH_SIZE = 128\n",
        "\n",
        "train_dataset = tf.data.Dataset.from_tensor_slices((X_train,y_train)).cache().shuffle(BUFFER_SIZE).batch(BATCH_SIZE).prefetch(tf.data.AUTOTUNE)\n",
        "test_dataset = tf.data.Dataset.from_tensor_slices((X_test,y_test)).cache().batch(BATCH_SIZE).prefetch(tf.data.AUTOTUNE)"
      ]
    },
    {
      "cell_type": "code",
      "execution_count": 15,
      "metadata": {},
      "outputs": [
        {
          "name": "stdout",
          "output_type": "stream",
          "text": [
            "texts:  [b'I was looking for ATTACK on Precinct There the film is THAT memorable Who is the star of this Ethan Hawke or Matt Dillon can tell who the lead actor is that a pretty big point against the movie right there Gabriel Byrne who could have needed the money this badly could he Drea De Matteo is stunning but only because of her amazing body It took me ages to finally work out she Joey sister off Friends agree that the so called SWAT people attacking the station are pretty crap as far as tactics go We were even taught better basic skills than this in RAF basic training Avoid this even the snow doesn want to fall on bus full of prisoners Very bad continuity indeed Avoid like the plague ']\n",
            "\n",
            "labels:  [0]\n"
          ]
        },
        {
          "name": "stderr",
          "output_type": "stream",
          "text": [
            "2022-11-10 18:15:00.987829: W tensorflow/core/kernels/data/cache_dataset_ops.cc:856] The calling iterator did not fully read the dataset being cached. In order to avoid unexpected truncation of the dataset, the partially cached contents of the dataset  will be discarded. This can happen if you have an input pipeline similar to `dataset.cache().take(k).repeat()`. You should use `dataset.take(k).cache().repeat()` instead.\n"
          ]
        }
      ],
      "source": [
        "for example, label in train_dataset.take(1):\n",
        "  print('texts: ', example.numpy()[:1])\n",
        "  print()\n",
        "  print('labels: ', label.numpy()[:1])"
      ]
    },
    {
      "cell_type": "markdown",
      "metadata": {},
      "source": [
        "## Create the text encoder"
      ]
    },
    {
      "cell_type": "markdown",
      "metadata": {},
      "source": [
        "The raw text loaded by `tfds` needs to be processed before it can be used in a model. The simplest way to process text for training is using the `TextVectorization` layer. This layer has many capabilities, but this tutorial sticks to the default behavior.\n",
        "\n",
        "Create the layer, and pass the dataset's text to the layer's `.adapt` method:"
      ]
    },
    {
      "cell_type": "code",
      "execution_count": 16,
      "metadata": {
        "colab": {},
        "colab_type": "code",
        "id": "kcUJoVmFOj95"
      },
      "outputs": [],
      "source": [
        "VOCAB_SIZE = 10000\n",
        "encoder = tf.keras.layers.TextVectorization(\n",
        "    max_tokens=VOCAB_SIZE,output_sequence_length=500)\n",
        "encoder.adapt(train_dataset.map(lambda text, label: text))"
      ]
    },
    {
      "cell_type": "markdown",
      "metadata": {
        "id": "IuQzVBbe3Ldu"
      },
      "source": [
        "The `.adapt` method sets the layer's vocabulary. Here are the first 20 tokens. After the padding and unknown tokens they're sorted by frequency: "
      ]
    },
    {
      "cell_type": "code",
      "execution_count": 17,
      "metadata": {
        "execution": {
          "iopub.execute_input": "2022-04-05T11:09:00.911143Z",
          "iopub.status.busy": "2022-04-05T11:09:00.910456Z",
          "iopub.status.idle": "2022-04-05T11:09:00.919381Z",
          "shell.execute_reply": "2022-04-05T11:09:00.918659Z"
        },
        "id": "tBoyjjWg0Ac9"
      },
      "outputs": [
        {
          "data": {
            "text/plain": [
              "array(['', '[UNK]', 'the', 'and', 'of', 'to', 'is', 'it', 'in', 'this',\n",
              "       'that', 'was', 'as', 'movie', 'for', 'with', 'but', 'film', 'you',\n",
              "       'on'], dtype='<U5')"
            ]
          },
          "execution_count": 17,
          "metadata": {},
          "output_type": "execute_result"
        }
      ],
      "source": [
        "vocab = encoder.get_vocabulary()\n",
        "np.array(vocab[:20])"
      ]
    },
    {
      "cell_type": "markdown",
      "metadata": {
        "id": "mjId5pua3jHQ"
      },
      "source": [
        "Once the vocabulary is set, the layer can encode text into indices. The tensors of indices are 0-padded to the longest sequence in the batch (unless you set a fixed `output_sequence_length`):"
      ]
    },
    {
      "cell_type": "code",
      "execution_count": 20,
      "metadata": {
        "execution": {
          "iopub.execute_input": "2022-04-05T11:09:00.923246Z",
          "iopub.status.busy": "2022-04-05T11:09:00.922590Z",
          "iopub.status.idle": "2022-04-05T11:09:00.941099Z",
          "shell.execute_reply": "2022-04-05T11:09:00.940408Z"
        },
        "id": "RGc7C9WiwRWs"
      },
      "outputs": [
        {
          "data": {
            "text/plain": [
              "array([[ 125,   11,  252, ...,    0,    0,    0],\n",
              "       [  22,    1,    1, ...,    7,    6, 4851],\n",
              "       [ 125,  166,    7, ...,    0,    0,    0]])"
            ]
          },
          "execution_count": 20,
          "metadata": {},
          "output_type": "execute_result"
        }
      ],
      "source": [
        "encoded_example = encoder(example)[:3].numpy()\n",
        "encoded_example"
      ]
    },
    {
      "cell_type": "markdown",
      "metadata": {
        "id": "F5cjz0bS39IN"
      },
      "source": [
        "With the default settings, the process is not completely reversible. There are three main reasons for that:\n",
        "\n",
        "1. The default value for `preprocessing.TextVectorization`'s `standardize` argument is `\"lower_and_strip_punctuation\"`.\n",
        "2. The limited vocabulary size and lack of character-based fallback results in some unknown tokens."
      ]
    },
    {
      "cell_type": "code",
      "execution_count": 21,
      "metadata": {
        "execution": {
          "iopub.execute_input": "2022-04-05T11:09:00.945104Z",
          "iopub.status.busy": "2022-04-05T11:09:00.944439Z",
          "iopub.status.idle": "2022-04-05T11:09:00.951145Z",
          "shell.execute_reply": "2022-04-05T11:09:00.950412Z"
        },
        "id": "N_tD0QY5wXaK"
      },
      "outputs": [
        {
          "name": "stdout",
          "output_type": "stream",
          "text": [
            "Original:  b'I was looking for ATTACK on Precinct There the film is THAT memorable Who is the star of this Ethan Hawke or Matt Dillon can tell who the lead actor is that a pretty big point against the movie right there Gabriel Byrne who could have needed the money this badly could he Drea De Matteo is stunning but only because of her amazing body It took me ages to finally work out she Joey sister off Friends agree that the so called SWAT people attacking the station are pretty crap as far as tactics go We were even taught better basic skills than this in RAF basic training Avoid this even the snow doesn want to fall on bus full of prisoners Very bad continuity indeed Avoid like the plague '\n",
            "Round-trip:  i was looking for attack on [UNK] there the film is that memorable who is the star of this ethan hawke or matt dillon can tell who the lead actor is that a pretty big point against the movie right there gabriel byrne who could have needed the money this badly could he [UNK] de [UNK] is stunning but only because of her amazing body it took me ages to finally work out she joey sister off friends agree that the so called [UNK] people attacking the station are pretty crap as far as tactics go we were even taught better basic skills than this in [UNK] basic training avoid this even the snow doesn want to fall on bus full of prisoners very bad continuity indeed avoid like the plague                                                                                                                                                                                                                                                                                                                                                                                 \n",
            "\n",
            "Original:  b'He stocky sweaty slightly cross eyed and restless He stands in front of us and calls himself pervert He claims that we the film viewers perceive the screen as toilet bowl and are all secretly wishing for all the t to explode from the inside He unpredictable and scary Well Come on you could have guessed by now he one of the leading philosophers of our age Slavoj ek is both narrator and subject of Sophie Fiennes extraordinary new film Pervert Guide to the Cinema Fiennes illustrates feature long lecture by ek and does so in two ways by providing exemplary film clips and putting ek on real or reconstructed locations from the movies he speaks about It always nice to watch neatly captioned scenes from great movies although Revenge of the Sith got here as well but the main attraction of Pervert Guide is ek himself What makes the movie such fun to watch is the unanswerable question one cannot help but ask over and over again what is more outrageous ek views or ek screen presence In documentary by Astra Taylor ek Slovenian philosopher at one point confessed his fear of being silent Because he claimed he feels like he doesn exist in the first place the only way to make all other people believe he does is to talk constantly and feverishly And talk he did and how Also Pervert Guide is dominated by his voice delivering perfect English in most crazy way and making some astonishing points about the cinema What are those Well for example he sees Chaplin reluctance towards talking picture as sign of an universal fear of voice itself kind of alien force taking over the human being think the ventriloquist segment of Dead of Night He says that the perverse nature of cinema is to teach us to desire certain objects not to provide us with them He identifies Groucho Marx as super ego Chico as ego and Harpo as id He says million other interesting things and all the time we cannot take our eyes off him so persuasive and captivating are his looks At some point couldn help but stare at his thick scruffy hair and wonder what kind of brain lays stored underneath Craving of course for more insights Most notable are ek readings of Lynch and Hitchcock which comes as no surprise since he has written about both of them The cumulative effect of many brilliantly edited clips from their respective work made those parts of ek lecture memorable and unlike others difficult to argue with since he seems to really have gotten things right on these two directors This doesn go for his reading of Tarkovsky for example upon whom he relentlessly imposes his own utterly materialistic view of reality dismissing precisely what so remarkable in all Tarkovsky namely strong religious intuitions and images The question isn whether ek is inspiring and brilliant because he is or whether Fiennes film is worth watching because it is likewise The real question is rather are ek views coherent One smart observation after another make for an overwhelming intellectual ride but after the whole thing is over some doubts remain For example while considering Vertigo ek states that what hidden behind human face is perfect void which makes face itself only facade something of deception in its own means However when in the final sequence we hear about the ever shattering finale of City Lights as being portrait of one human being fully exposed to another it hard not to ask what happened to the whole facade thing Why should we grant Chaplin face intrinsic value of the real thing and deprive Kim Novak of this same privilege in two bold strokes Or maybe that incoherence might also be read in Lacan terms The name of the notoriously unreadable French psychoanalyst is fundamental to ek thought The film has all the virtues of splendid two and half hours lecture lots of ground are covered many perspectives employed even some first rate wisecracks made when ek travels on Melanie Daniels boat from The Birds and tries to think as she did he comes up with want to k Mitch But it has also one shortcoming that isn inherent to two and half hours lecture as such it almost obsessively digressive ek yarn about how far are we from the Real is as good as any other psychoanalytic yarn but after some minutes it becomes quite clear that one of ek perverse pleasures is to ramble on and on changing subjects constantly Overall effect is this of being swept away by giant cool fizzing wave you re simultaneously taken by surprise refreshed in mortal danger and confused no end As you finish watching your head is brimming with ideas not of your own and you re already planning on re watching some films but you also share sense of having survived calamity The ultimate question is did ek lost it Or haven we even came close to the real thing Once cinephilia becomes punishable by imprisonment we shall all meet in one big cell and finally talk to each other not having any movies around to turn our faces to dare you all who will have enough guts to approach ek and defy him My guess is that once you look into those eyes in real life you become believer '\n",
            "Round-trip:  he [UNK] [UNK] slightly cross eyed and restless he stands in front of us and calls himself pervert he claims that we the film viewers [UNK] the screen as toilet bowl and are all secretly wishing for all the t to explode from the inside he unpredictable and scary well come on you could have guessed by now he one of the leading [UNK] of our age [UNK] [UNK] is both narrator and subject of sophie fiennes extraordinary new film pervert guide to the cinema fiennes illustrates feature long lecture by [UNK] and does so in two ways by providing [UNK] film clips and putting [UNK] on real or [UNK] locations from the movies he speaks about it always nice to watch neatly [UNK] scenes from great movies although revenge of the [UNK] got here as well but the main attraction of pervert guide is [UNK] himself what makes the movie such fun to watch is the [UNK] question one cannot help but ask over and over again what is more outrageous [UNK] views or [UNK] screen presence in documentary by [UNK] taylor [UNK] [UNK] [UNK] at one point [UNK] his fear of being silent because he claimed he feels like he doesn exist in the first place the only way to make all other people believe he does is to talk constantly and [UNK] and talk he did and how also pervert guide is dominated by his voice delivering perfect english in most crazy way and making some astonishing points about the cinema what are those well for example he sees chaplin [UNK] towards talking picture as sign of an universal fear of voice itself kind of alien force taking over the human being think the [UNK] segment of dead of night he says that the perverse nature of cinema is to teach us to desire certain objects not to provide us with them he [UNK] [UNK] marx as super ego [UNK] as ego and [UNK] as id he says million other interesting things and all the time we cannot take our eyes off him so [UNK] and captivating are his looks at some point couldn help but stare at his thick [UNK] hair and wonder what kind of brain lays [UNK] underneath [UNK] of course for more insights most notable are [UNK] [UNK] of lynch and hitchcock which comes as no surprise since he has written about both of them the [UNK] effect of many brilliantly edited clips from their respective work made those parts of [UNK] lecture memorable and unlike others difficult to argue with since he seems to really have gotten things right on these two directors this doesn go for his reading of [UNK] for example upon whom he relentlessly [UNK] his own utterly [UNK] view of reality [UNK] precisely what so remarkable in all [UNK] namely strong religious [UNK] and images the question isn whether [UNK] is inspiring and brilliant because he is or whether fiennes film is worth watching because it is likewise\n",
            "\n",
            "Original:  b'I find it terribly ironic that left wing Hollywood continues to hedge its bets making these awful lukewarm movies that neither condemn the war on terror nor embrace it If you re Sixties survivor and committed pacifist and you re hoping for an all out condemnation of war like BORN ON THE FOURTH OF JULY or ALL QUIET ON THE WESTERN FRONT this movie will really feel like rip off None of these soldiers actually question this war or any war or the idea of war They just gripe about having to do another tour On the other hand if you re patriotic American who wants to see story of courage and honor this movie will really feel like rip off None of these soldiers loves America or even loves the service The way they pout and sulk makes them come across more like suburban teenagers than blue collar tough guys It not WE WERE SOLDIERS and it not SANDS OF IWO JIMA It not even mindless action and the war scenes are less RAMBO and more BUFFY Ryan Philippe so completely cannot carry this kind of movie Though he devastatingly sexy in rough trade men room bisexual sort of way it hard to picture him as slow talking Texas boy who wants to stand up and be counted This is no Sgt Croft in Mailer THE NAKED AND THE DEAD He more like Joel in Truman Capote OTHER VOICES OTHER ROOMS He can sell you on the idea that he been in combat and done his bit OR that he wants his woman and wants her right now He fizzles on the battlefield and in the bedroom scenes looking as if he would much prefer to bend over and take good stiff attack from the rear '\n",
            "Round-trip:  i find it terribly ironic that left wing hollywood continues to [UNK] its [UNK] making these awful [UNK] movies that neither [UNK] the war on terror nor embrace it if you re sixties survivor and committed [UNK] and you re hoping for an all out [UNK] of war like born on the fourth of july or all quiet on the western front this movie will really feel like rip off none of these soldiers actually question this war or any war or the idea of war they just [UNK] about having to do another tour on the other hand if you re patriotic american who wants to see story of courage and honor this movie will really feel like rip off none of these soldiers loves america or even loves the service the way they [UNK] and [UNK] makes them come across more like suburban teenagers than blue collar tough guys it not we were soldiers and it not [UNK] of [UNK] [UNK] it not even mindless action and the war scenes are less rambo and more buffy ryan [UNK] so completely cannot carry this kind of movie though he [UNK] sexy in rough trade men room [UNK] sort of way it hard to picture him as slow talking texas boy who wants to stand up and be counted this is no sgt [UNK] in [UNK] the naked and the dead he more like joel in truman capote other voices other rooms he can sell you on the idea that he been in combat and done his bit or that he wants his woman and wants her right now he [UNK] on the battlefield and in the bedroom scenes looking as if he would much prefer to bend over and take good stiff attack from the rear                                                                                                                                                                                                           \n",
            "\n"
          ]
        }
      ],
      "source": [
        "for n in range(3):\n",
        "  print(\"Original: \", example[n].numpy())\n",
        "  print(\"Round-trip: \", \" \".join(np.array(vocab)[encoded_example[n]]))\n",
        "  print()"
      ]
    },
    {
      "cell_type": "code",
      "execution_count": 22,
      "metadata": {},
      "outputs": [
        {
          "name": "stdout",
          "output_type": "stream",
          "text": [
            "10000\n"
          ]
        }
      ],
      "source": [
        "word_index = dict(zip(vocab, range(len(vocab))))\n",
        "print(len(vocab))"
      ]
    },
    {
      "cell_type": "code",
      "execution_count": 23,
      "metadata": {},
      "outputs": [
        {
          "data": {
            "text/plain": [
              "[2, 1094, 1761, 19, 2, 1685, 1928, 965]"
            ]
          },
          "execution_count": 23,
          "metadata": {},
          "output_type": "execute_result"
        }
      ],
      "source": [
        "test = [\"the\", \"cat\", \"sat\", \"on\", \"the\",\"mike\",\"max\",\"reasons\"]\n",
        "[word_index[w] for w in test]"
      ]
    },
    {
      "cell_type": "code",
      "execution_count": 24,
      "metadata": {},
      "outputs": [
        {
          "name": "stdout",
          "output_type": "stream",
          "text": [
            "Found 400000 word vectors.\n"
          ]
        }
      ],
      "source": [
        "path_to_glove_file = \"glove.6B/glove.6B.200d.txt\"\n",
        "\n",
        "embeddings_index = {}\n",
        "with open(path_to_glove_file) as f:\n",
        "    for line in f:\n",
        "        word, coefs = line.split(maxsplit=1)\n",
        "        coefs = np.fromstring(coefs, \"f\", sep=\" \")\n",
        "        embeddings_index[word] = coefs\n",
        "\n",
        "print(\"Found %s word vectors.\" % len(embeddings_index))"
      ]
    },
    {
      "cell_type": "code",
      "execution_count": 25,
      "metadata": {},
      "outputs": [
        {
          "name": "stdout",
          "output_type": "stream",
          "text": [
            "\n",
            "[UNK]\n",
            "hadn\n",
            "imho\n",
            "Converted 9996 words (4 misses)\n"
          ]
        }
      ],
      "source": [
        "num_tokens = len(vocab) + 2\n",
        "embedding_dim = 200\n",
        "hits = 0\n",
        "misses = 0\n",
        "\n",
        "# Prepare embedding matrix\n",
        "embedding_matrix = np.zeros((num_tokens, embedding_dim))\n",
        "for word, i in word_index.items():\n",
        "    embedding_vector = embeddings_index.get(word)\n",
        "    if embedding_vector is not None:\n",
        "        # Words not found in embedding index will be all-zeros.\n",
        "        # This includes the representation for \"padding\" and \"OOV\"\n",
        "        embedding_matrix[i] = embedding_vector\n",
        "        hits += 1\n",
        "    else:\n",
        "        misses += 1\n",
        "        if misses<10:\n",
        "            print(word)\n",
        "print(\"Converted %d words (%d misses)\" % (hits, misses))"
      ]
    },
    {
      "cell_type": "markdown",
      "metadata": {
        "id": "bjUqGVBxGw-t"
      },
      "source": [
        "## Create the model"
      ]
    },
    {
      "cell_type": "markdown",
      "metadata": {
        "id": "W7zsmInBOCPO"
      },
      "source": [
        "![A drawing of the information flow in the model](images/bidirectional.png)"
      ]
    },
    {
      "cell_type": "markdown",
      "metadata": {
        "id": "bgs6nnSTGw-t"
      },
      "source": [
        "Above is a diagram of the model. \n",
        "\n",
        "1. This model can be build as a `tf.keras.Sequential`.\n",
        "\n",
        "2. The first layer is the `encoder`, which converts the text to a sequence of token indices.\n",
        "\n",
        "3. After the encoder is an embedding layer. An embedding layer stores one vector per word. When called, it converts the sequences of word indices to sequences of vectors. These vectors are trainable. After training (on enough data), words with similar meanings often have similar vectors.\n",
        "\n",
        "  This index-lookup is much more efficient than the equivalent operation of passing a one-hot encoded vector through a `tf.keras.layers.Dense` layer.\n",
        "\n",
        "4. A recurrent neural network (RNN) processes sequence input by iterating through the elements. RNNs pass the outputs from one timestep to their input on the next timestep.\n",
        "\n",
        "  The `tf.keras.layers.Bidirectional` wrapper can also be used with an RNN layer. This propagates the input forward and backwards through the RNN layer and then concatenates the final output. \n",
        "\n",
        "  * The main advantage of a bidirectional RNN is that the signal from the beginning of the input doesn't need to be processed all the way through every timestep to affect the output.  \n",
        "\n",
        "  * The main disadvantage of a bidirectional RNN is that you can't efficiently stream predictions as words are being added to the end.\n",
        "\n",
        "5. After the RNN has converted the sequence to a single vector the two `layers.Dense` do some final processing, and convert from this vector representation to a single logit as the classification output. \n"
      ]
    },
    {
      "cell_type": "markdown",
      "metadata": {
        "id": "V4fodCI7soQi"
      },
      "source": [
        "The code to implement this is below:"
      ]
    },
    {
      "cell_type": "markdown",
      "metadata": {
        "id": "QIGmIGkkouUb"
      },
      "source": [
        "Please note that Keras sequential model is used here since all the layers in the model only have single input and produce single output. In case you want to use stateful RNN layer, you might want to build your model with Keras functional API or model subclassing so that you can retrieve and reuse the RNN layer states. Please check [Keras RNN guide](https://www.tensorflow.org/guide/keras/rnn#rnn_state_reuse) for more details."
      ]
    },
    {
      "cell_type": "markdown",
      "metadata": {
        "id": "kF-PsCk1LwjY"
      },
      "source": [
        "The embedding layer [uses masking](https://www.tensorflow.org/guide/keras/masking_and_padding) to handle the varying sequence-lengths. All the layers after the `Embedding` support masking:"
      ]
    },
    {
      "cell_type": "markdown",
      "metadata": {
        "id": "7g1evcaRpTKm"
      },
      "source": [
        "## Stack two or more LSTM layers\n",
        "\n",
        "Keras recurrent layers have two available modes that are controlled by the `return_sequences` constructor argument:\n",
        "\n",
        "* If `False` it returns only the last output for each input sequence (a 2D tensor of shape (batch_size, output_features)). This is the default, used in the previous model.\n",
        "\n",
        "* If `True` the full sequences of successive outputs for each timestep is returned (a 3D tensor of shape `(batch_size, timesteps, output_features)`).\n",
        "\n",
        "Here is what the flow of information looks like with `return_sequences=True`:\n",
        "\n",
        "![layered_bidirectional](images/layered_bidirectional.png)"
      ]
    },
    {
      "cell_type": "markdown",
      "metadata": {
        "id": "wbSClCrG1z8l"
      },
      "source": [
        "The interesting thing about using an `RNN` with `return_sequences=True` is that the output still has 3-axes, like the input, so it can be passed to another RNN layer, like this:"
      ]
    },
    {
      "cell_type": "code",
      "execution_count": 26,
      "metadata": {},
      "outputs": [],
      "source": [
        "model = tf.keras.Sequential([\n",
        "    encoder,\n",
        "    tf.keras.layers.Embedding(num_tokens, embedding_dim,   #, mask_zero=True\n",
        "    embeddings_initializer=tf.keras.initializers.Constant(embedding_matrix),\n",
        "    trainable=False),\n",
        "    tf.keras.layers.Bidirectional(tf.keras.layers.LSTM(128,  return_sequences=True)),\n",
        "    tf.keras.layers.Bidirectional(tf.keras.layers.LSTM(64)),\n",
        "    tf.keras.layers.Dense(64, activation='relu'),\n",
        "    tf.keras.layers.Dropout(0.5),\n",
        "    tf.keras.layers.Dense(1,activation='sigmoid')\n",
        "])"
      ]
    },
    {
      "cell_type": "code",
      "execution_count": 27,
      "metadata": {},
      "outputs": [],
      "source": [
        "model.compile(loss=tf.keras.losses.BinaryCrossentropy(),\n",
        "              optimizer=tf.keras.optimizers.Adam(1e-4),\n",
        "              metrics=['accuracy'])"
      ]
    },
    {
      "cell_type": "code",
      "execution_count": 28,
      "metadata": {},
      "outputs": [
        {
          "name": "stdout",
          "output_type": "stream",
          "text": [
            "Model: \"sequential\"\n",
            "_________________________________________________________________\n",
            " Layer (type)                Output Shape              Param #   \n",
            "=================================================================\n",
            " text_vectorization (TextVec  (None, 500)              0         \n",
            " torization)                                                     \n",
            "                                                                 \n",
            " embedding (Embedding)       (None, 500, 200)          2000400   \n",
            "                                                                 \n",
            " bidirectional (Bidirectiona  (None, 500, 256)         336896    \n",
            " l)                                                              \n",
            "                                                                 \n",
            " bidirectional_1 (Bidirectio  (None, 128)              164352    \n",
            " nal)                                                            \n",
            "                                                                 \n",
            " dense (Dense)               (None, 64)                8256      \n",
            "                                                                 \n",
            " dropout (Dropout)           (None, 64)                0         \n",
            "                                                                 \n",
            " dense_1 (Dense)             (None, 1)                 65        \n",
            "                                                                 \n",
            "=================================================================\n",
            "Total params: 2,509,969\n",
            "Trainable params: 509,569\n",
            "Non-trainable params: 2,000,400\n",
            "_________________________________________________________________\n"
          ]
        }
      ],
      "source": [
        "model.summary()"
      ]
    },
    {
      "cell_type": "code",
      "execution_count": 44,
      "metadata": {},
      "outputs": [
        {
          "name": "stdout",
          "output_type": "stream",
          "text": [
            "Epoch 1/10\n",
            "313/313 [==============================] - 678s 2s/step - loss: 0.6102 - accuracy: 0.6647 - val_loss: 0.4927 - val_accuracy: 0.7766\n",
            "Epoch 2/10\n"
          ]
        },
        {
          "name": "stderr",
          "output_type": "stream",
          "text": [
            "2022-11-10 15:24:32.720639: W tensorflow/core/kernels/data/cache_dataset_ops.cc:856] The calling iterator did not fully read the dataset being cached. In order to avoid unexpected truncation of the dataset, the partially cached contents of the dataset  will be discarded. This can happen if you have an input pipeline similar to `dataset.cache().take(k).repeat()`. You should use `dataset.take(k).cache().repeat()` instead.\n"
          ]
        },
        {
          "name": "stdout",
          "output_type": "stream",
          "text": [
            "313/313 [==============================] - 661s 2s/step - loss: 0.4944 - accuracy: 0.7767 - val_loss: 0.4680 - val_accuracy: 0.7917\n",
            "Epoch 3/10\n"
          ]
        },
        {
          "name": "stderr",
          "output_type": "stream",
          "text": [
            "2022-11-10 15:35:33.320794: W tensorflow/core/kernels/data/cache_dataset_ops.cc:856] The calling iterator did not fully read the dataset being cached. In order to avoid unexpected truncation of the dataset, the partially cached contents of the dataset  will be discarded. This can happen if you have an input pipeline similar to `dataset.cache().take(k).repeat()`. You should use `dataset.take(k).cache().repeat()` instead.\n"
          ]
        },
        {
          "name": "stdout",
          "output_type": "stream",
          "text": [
            "313/313 [==============================] - 660s 2s/step - loss: 0.4506 - accuracy: 0.8038 - val_loss: 0.4244 - val_accuracy: 0.8154\n",
            "Epoch 4/10\n"
          ]
        },
        {
          "name": "stderr",
          "output_type": "stream",
          "text": [
            "2022-11-10 15:46:33.718664: W tensorflow/core/kernels/data/cache_dataset_ops.cc:856] The calling iterator did not fully read the dataset being cached. In order to avoid unexpected truncation of the dataset, the partially cached contents of the dataset  will be discarded. This can happen if you have an input pipeline similar to `dataset.cache().take(k).repeat()`. You should use `dataset.take(k).cache().repeat()` instead.\n"
          ]
        },
        {
          "name": "stdout",
          "output_type": "stream",
          "text": [
            "313/313 [==============================] - 666s 2s/step - loss: 0.4476 - accuracy: 0.8009 - val_loss: 0.5031 - val_accuracy: 0.7750\n",
            "Epoch 5/10\n"
          ]
        },
        {
          "name": "stderr",
          "output_type": "stream",
          "text": [
            "2022-11-10 15:57:39.608484: W tensorflow/core/kernels/data/cache_dataset_ops.cc:856] The calling iterator did not fully read the dataset being cached. In order to avoid unexpected truncation of the dataset, the partially cached contents of the dataset  will be discarded. This can happen if you have an input pipeline similar to `dataset.cache().take(k).repeat()`. You should use `dataset.take(k).cache().repeat()` instead.\n"
          ]
        },
        {
          "name": "stdout",
          "output_type": "stream",
          "text": [
            "313/313 [==============================] - 677s 2s/step - loss: 0.4309 - accuracy: 0.8130 - val_loss: 0.4568 - val_accuracy: 0.7747\n",
            "Epoch 6/10\n"
          ]
        },
        {
          "name": "stderr",
          "output_type": "stream",
          "text": [
            "2022-11-10 16:08:56.407164: W tensorflow/core/kernels/data/cache_dataset_ops.cc:856] The calling iterator did not fully read the dataset being cached. In order to avoid unexpected truncation of the dataset, the partially cached contents of the dataset  will be discarded. This can happen if you have an input pipeline similar to `dataset.cache().take(k).repeat()`. You should use `dataset.take(k).cache().repeat()` instead.\n"
          ]
        },
        {
          "name": "stdout",
          "output_type": "stream",
          "text": [
            "313/313 [==============================] - 663s 2s/step - loss: 0.4125 - accuracy: 0.8219 - val_loss: 0.4042 - val_accuracy: 0.8242\n",
            "Epoch 7/10\n"
          ]
        },
        {
          "name": "stderr",
          "output_type": "stream",
          "text": [
            "2022-11-10 16:19:59.175424: W tensorflow/core/kernels/data/cache_dataset_ops.cc:856] The calling iterator did not fully read the dataset being cached. In order to avoid unexpected truncation of the dataset, the partially cached contents of the dataset  will be discarded. This can happen if you have an input pipeline similar to `dataset.cache().take(k).repeat()`. You should use `dataset.take(k).cache().repeat()` instead.\n"
          ]
        },
        {
          "name": "stdout",
          "output_type": "stream",
          "text": [
            "313/313 [==============================] - 662s 2s/step - loss: 0.3988 - accuracy: 0.8290 - val_loss: 0.4277 - val_accuracy: 0.8143\n",
            "Epoch 8/10\n"
          ]
        },
        {
          "name": "stderr",
          "output_type": "stream",
          "text": [
            "2022-11-10 16:31:01.056473: W tensorflow/core/kernels/data/cache_dataset_ops.cc:856] The calling iterator did not fully read the dataset being cached. In order to avoid unexpected truncation of the dataset, the partially cached contents of the dataset  will be discarded. This can happen if you have an input pipeline similar to `dataset.cache().take(k).repeat()`. You should use `dataset.take(k).cache().repeat()` instead.\n"
          ]
        },
        {
          "name": "stdout",
          "output_type": "stream",
          "text": [
            "313/313 [==============================] - 705s 2s/step - loss: 0.3855 - accuracy: 0.8359 - val_loss: 0.3916 - val_accuracy: 0.8266\n",
            "Epoch 9/10\n"
          ]
        },
        {
          "name": "stderr",
          "output_type": "stream",
          "text": [
            "2022-11-10 16:42:45.819928: W tensorflow/core/kernels/data/cache_dataset_ops.cc:856] The calling iterator did not fully read the dataset being cached. In order to avoid unexpected truncation of the dataset, the partially cached contents of the dataset  will be discarded. This can happen if you have an input pipeline similar to `dataset.cache().take(k).repeat()`. You should use `dataset.take(k).cache().repeat()` instead.\n"
          ]
        },
        {
          "name": "stdout",
          "output_type": "stream",
          "text": [
            "313/313 [==============================] - 693s 2s/step - loss: 0.3700 - accuracy: 0.8425 - val_loss: 0.3762 - val_accuracy: 0.8430\n",
            "Epoch 10/10\n"
          ]
        },
        {
          "name": "stderr",
          "output_type": "stream",
          "text": [
            "2022-11-10 16:54:18.608467: W tensorflow/core/kernels/data/cache_dataset_ops.cc:856] The calling iterator did not fully read the dataset being cached. In order to avoid unexpected truncation of the dataset, the partially cached contents of the dataset  will be discarded. This can happen if you have an input pipeline similar to `dataset.cache().take(k).repeat()`. You should use `dataset.take(k).cache().repeat()` instead.\n"
          ]
        },
        {
          "name": "stdout",
          "output_type": "stream",
          "text": [
            "313/313 [==============================] - 667s 2s/step - loss: 0.3860 - accuracy: 0.8369 - val_loss: 0.4030 - val_accuracy: 0.8229\n"
          ]
        },
        {
          "name": "stderr",
          "output_type": "stream",
          "text": [
            "2022-11-10 17:05:25.528341: W tensorflow/core/kernels/data/cache_dataset_ops.cc:856] The calling iterator did not fully read the dataset being cached. In order to avoid unexpected truncation of the dataset, the partially cached contents of the dataset  will be discarded. This can happen if you have an input pipeline similar to `dataset.cache().take(k).repeat()`. You should use `dataset.take(k).cache().repeat()` instead.\n"
          ]
        }
      ],
      "source": [
        "history = model.fit(train_dataset, epochs=10,\n",
        "                    validation_data=test_dataset,\n",
        "                    validation_steps=30,verbose=1)"
      ]
    },
    {
      "cell_type": "code",
      "execution_count": 45,
      "metadata": {},
      "outputs": [
        {
          "name": "stderr",
          "output_type": "stream",
          "text": [
            "WARNING:absl:Found untraced functions such as lstm_cell_7_layer_call_fn, lstm_cell_7_layer_call_and_return_conditional_losses, lstm_cell_8_layer_call_fn, lstm_cell_8_layer_call_and_return_conditional_losses, lstm_cell_10_layer_call_fn while saving (showing 5 of 8). These functions will not be directly callable after loading.\n"
          ]
        },
        {
          "name": "stdout",
          "output_type": "stream",
          "text": [
            "INFO:tensorflow:Assets written to: sentiment_model/assets\n"
          ]
        },
        {
          "name": "stderr",
          "output_type": "stream",
          "text": [
            "INFO:tensorflow:Assets written to: sentiment_model/assets\n"
          ]
        }
      ],
      "source": [
        "model.save('sentiment_model')"
      ]
    },
    {
      "cell_type": "code",
      "execution_count": 29,
      "metadata": {},
      "outputs": [
        {
          "name": "stdout",
          "output_type": "stream",
          "text": [
            "Model: \"sequential_1\"\n",
            "_________________________________________________________________\n",
            " Layer (type)                Output Shape              Param #   \n",
            "=================================================================\n",
            " text_vectorization_1 (TextV  (None, 500)              0         \n",
            " ectorization)                                                   \n",
            "                                                                 \n",
            " embedding_1 (Embedding)     (None, 500, 200)          2000400   \n",
            "                                                                 \n",
            " bidirectional_2 (Bidirectio  (None, 500, 256)         336896    \n",
            " nal)                                                            \n",
            "                                                                 \n",
            " bidirectional_3 (Bidirectio  (None, 128)              164352    \n",
            " nal)                                                            \n",
            "                                                                 \n",
            " dense_2 (Dense)             (None, 64)                8256      \n",
            "                                                                 \n",
            " dropout_1 (Dropout)         (None, 64)                0         \n",
            "                                                                 \n",
            " dense_3 (Dense)             (None, 1)                 65        \n",
            "                                                                 \n",
            "=================================================================\n",
            "Total params: 2,509,969\n",
            "Trainable params: 509,569\n",
            "Non-trainable params: 2,000,400\n",
            "_________________________________________________________________\n"
          ]
        }
      ],
      "source": [
        "new_model = tf.keras.models.load_model('sentiment_model')\n",
        "\n",
        "# Check its architecture\n",
        "new_model.summary()"
      ]
    },
    {
      "cell_type": "code",
      "execution_count": 32,
      "metadata": {},
      "outputs": [
        {
          "name": "stdout",
          "output_type": "stream",
          "text": [
            "79/79 [==============================] - 78s 975ms/step - loss: 0.3962 - accuracy: 0.8271\n"
          ]
        }
      ],
      "source": [
        "score = new_model.evaluate(test_dataset, verbose=1)\n"
      ]
    },
    {
      "cell_type": "code",
      "execution_count": 41,
      "metadata": {
        "execution": {
          "iopub.execute_input": "2022-04-05T11:24:12.100809Z",
          "iopub.status.busy": "2022-04-05T11:24:12.100224Z",
          "iopub.status.idle": "2022-04-05T11:24:16.419040Z",
          "shell.execute_reply": "2022-04-05T11:24:16.418327Z"
        },
        "id": "ykUKnAoqbycW"
      },
      "outputs": [
        {
          "name": "stdout",
          "output_type": "stream",
          "text": [
            "1/1 [==============================] - 0s 69ms/step\n",
            "[[0.15745758]]\n"
          ]
        }
      ],
      "source": [
        "\n",
        "\n",
        "sample_text = ('The movie was not bad')             \n",
        "predictions = new_model.predict(np.array([sample_text]))\n",
        "print(predictions)"
      ]
    },
    {
      "cell_type": "code",
      "execution_count": null,
      "metadata": {},
      "outputs": [],
      "source": [
        "print('hi')"
      ]
    },
    {
      "cell_type": "code",
      "execution_count": 42,
      "metadata": {},
      "outputs": [],
      "source": [
        "def plot_graphs(history, metric):\n",
        "  plt.plot(history.history[metric])\n",
        "  plt.plot(history.history['val_'+metric], '')\n",
        "  plt.xlabel(\"Epochs\")\n",
        "  plt.ylabel(metric)\n",
        "  plt.legend([metric, 'val_'+metric])"
      ]
    },
    {
      "cell_type": "code",
      "execution_count": 43,
      "metadata": {
        "execution": {
          "iopub.execute_input": "2022-04-05T11:24:16.422721Z",
          "iopub.status.busy": "2022-04-05T11:24:16.422130Z",
          "iopub.status.idle": "2022-04-05T11:24:16.650288Z",
          "shell.execute_reply": "2022-04-05T11:24:16.649603Z"
        },
        "id": "_YYub0EDtwCu"
      },
      "outputs": [
        {
          "ename": "NameError",
          "evalue": "name 'history' is not defined",
          "output_type": "error",
          "traceback": [
            "\u001b[0;31m---------------------------------------------------------------------------\u001b[0m",
            "\u001b[0;31mNameError\u001b[0m                                 Traceback (most recent call last)",
            "Cell \u001b[0;32mIn [43], line 3\u001b[0m\n\u001b[1;32m      1\u001b[0m plt\u001b[39m.\u001b[39mfigure(figsize\u001b[39m=\u001b[39m(\u001b[39m16\u001b[39m, \u001b[39m6\u001b[39m))\n\u001b[1;32m      2\u001b[0m plt\u001b[39m.\u001b[39msubplot(\u001b[39m1\u001b[39m, \u001b[39m2\u001b[39m, \u001b[39m1\u001b[39m)\n\u001b[0;32m----> 3\u001b[0m plot_graphs(history, \u001b[39m'\u001b[39m\u001b[39maccuracy\u001b[39m\u001b[39m'\u001b[39m)\n\u001b[1;32m      4\u001b[0m plt\u001b[39m.\u001b[39msubplot(\u001b[39m1\u001b[39m, \u001b[39m2\u001b[39m, \u001b[39m2\u001b[39m)\n\u001b[1;32m      5\u001b[0m plot_graphs(history, \u001b[39m'\u001b[39m\u001b[39mloss\u001b[39m\u001b[39m'\u001b[39m)\n",
            "\u001b[0;31mNameError\u001b[0m: name 'history' is not defined"
          ]
        },
        {
          "data": {
            "image/png": "[encoded data removed]",
            "text/plain": [
              "<Figure size 1600x600 with 1 Axes>"
            ]
          },
          "metadata": {},
          "output_type": "display_data"
        }
      ],
      "source": [
        "plt.figure(figsize=(16, 6))\n",
        "plt.subplot(1, 2, 1)\n",
        "plot_graphs(history, 'accuracy')\n",
        "plt.subplot(1, 2, 2)\n",
        "plot_graphs(history, 'loss')"
      ]
    },
    {
      "cell_type": "markdown",
      "metadata": {
        "id": "9xvpE3BaGw_V"
      },
      "source": [
        "Check out other existing recurrent layers such as [GRU layers](https://www.tensorflow.org/api_docs/python/tf/keras/layers/GRU).\n",
        "\n",
        "If you're interested in building custom RNNs, see the [Keras RNN Guide](https://www.tensorflow.org/guide/keras/rnn).\n"
      ]
    }
  ],
  "metadata": {
    "accelerator": "TPU",
    "colab": {
      "collapsed_sections": [],
      "name": "[HEAD]_movie_rev_glove-2.ipynb",
      "provenance": []
    },
    "kernelspec": {
      "display_name": "Python 3.9.13 ('env': venv)",
      "language": "python",
      "name": "python3"
    },
    "language_info": {
      "codemirror_mode": {
        "name": "ipython",
        "version": 3
      },
      "file_extension": ".py",
      "mimetype": "text/x-python",
      "name": "python",
      "nbconvert_exporter": "python",
      "pygments_lexer": "ipython3",
      "version": "3.9.13"
    },
    "vscode": {
      "interpreter": {
        "hash": "9c171ea955baa94c0cf96c53bc51639db896a920e4848a95b69a4b29781448bb"
      }
    }
  },
  "nbformat": 4,
  "nbformat_minor": 0
}
