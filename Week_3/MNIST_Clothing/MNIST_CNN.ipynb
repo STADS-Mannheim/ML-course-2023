{
 "cells": [
  {
   "cell_type": "markdown",
   "id": "5d8cb0bc",
   "metadata": {},
   "source": [
    "### Import relevant modules"
   ]
  },
  {
   "cell_type": "code",
   "execution_count": null,
   "id": "4e37f607",
   "metadata": {},
   "outputs": [],
   "source": [
    "import visualkeras\n",
    "import numpy as np\n",
    "import pandas as pd\n",
    "import seaborn as sn\n",
    "import tensorflow as tf\n",
    "import matplotlib.pyplot as plt"
   ]
  },
  {
   "cell_type": "markdown",
   "id": "77ba0aaa",
   "metadata": {},
   "source": [
    "### Preprocess data"
   ]
  },
  {
   "cell_type": "code",
   "execution_count": null,
   "id": "30d9f084",
   "metadata": {},
   "outputs": [],
   "source": [
    "train = pd.read_csv('fashion-mnist_train.csv')\n",
    "test = pd.read_csv('fashion-mnist_test.csv')"
   ]
  },
  {
   "cell_type": "code",
   "execution_count": null,
   "id": "0a32e762",
   "metadata": {},
   "outputs": [],
   "source": [
    "train.head()"
   ]
  },
  {
   "cell_type": "code",
   "execution_count": null,
   "id": "b94ba58e",
   "metadata": {},
   "outputs": [],
   "source": [
    "class_dict = {\n",
    "    0: \"t-shirt/top\",\n",
    "    1: \"trouser\",\n",
    "    2: \"pullover\",\n",
    "    3: \"dress\",\n",
    "    4: \"coat\",\n",
    "    5: \"sandal\",\n",
    "    6: \"shirt\",\n",
    "    7: \"sneaker\",\n",
    "    8: \"bag\",\n",
    "    9: \"ankle boot\",\n",
    "}"
   ]
  },
  {
   "cell_type": "code",
   "execution_count": null,
   "id": "e4b3ad40",
   "metadata": {},
   "outputs": [],
   "source": [
    "# Normalization, one-hot-encoding and transformation\n",
    "def data_preprocessing(raw):\n",
    "    label = tf.keras.utils.to_categorical(raw.label, 10)\n",
    "    num_images = raw.shape[0]\n",
    "    x_as_array = raw.values[:,1:]\n",
    "    x_shaped_array = x_as_array.reshape(num_images, 28, 28, 1)\n",
    "    image = x_shaped_array / 255\n",
    "    return image, label\n",
    "\n",
    "X, y = data_preprocessing(train)\n",
    "X_test, y_test = data_preprocessing(test)"
   ]
  },
  {
   "cell_type": "markdown",
   "id": "e1424773",
   "metadata": {},
   "source": [
    "### Vizualisation Tools"
   ]
  },
  {
   "cell_type": "code",
   "execution_count": null,
   "id": "a226d999",
   "metadata": {},
   "outputs": [],
   "source": [
    "# Plot one or multiple pictures\n",
    "def show_image(pictures, vect):\n",
    "    plt.imshow(pictures[vect].reshape(-1,28), cmap=\"gray\", interpolation=\"none\")"
   ]
  },
  {
   "cell_type": "code",
   "execution_count": null,
   "id": "7755a2f8",
   "metadata": {},
   "outputs": [],
   "source": [
    "# Prints class names from label vector\n",
    "def get_label(labels, vect):\n",
    "    return [class_dict[i] for i in labels[vect]]"
   ]
  },
  {
   "cell_type": "code",
   "execution_count": null,
   "id": "a763fe77",
   "metadata": {},
   "outputs": [],
   "source": [
    "# Let's look at 5 random examples\n",
    "labels_train = train[\"label\"]\n",
    "pictures_train = train.iloc[:,1:]\n",
    "\n",
    "vect = np.random.randint(0, len(train),5)\n",
    "show_image(X,vect)\n",
    "get_label(labels_train, vect)"
   ]
  },
  {
   "cell_type": "markdown",
   "id": "f4a6a8fa",
   "metadata": {},
   "source": [
    "### Define our model"
   ]
  },
  {
   "cell_type": "code",
   "execution_count": null,
   "id": "7f777e7b",
   "metadata": {},
   "outputs": [],
   "source": [
    "model = tf.keras.Sequential([\n",
    "    # Add Conv2D and MaxPool layer \n",
    "    # https://www.tensorflow.org/api_docs/python/tf/keras/layers\n",
    "    # Play with order and hyperparameter\n",
    "    # IMPORTANT: Your first layer should include input_shape=(28,28,1) as a hyperparameter\n",
    "\n",
    "    # Add one Flatten layer and Dense layers for the classification\n",
    "    \n",
    "])"
   ]
  },
  {
   "cell_type": "code",
   "execution_count": null,
   "id": "49d5ac54",
   "metadata": {},
   "outputs": [],
   "source": [
    "# Get an overview over dimensions and number of parameters of your model\n",
    "model.summary()"
   ]
  },
  {
   "cell_type": "code",
   "execution_count": null,
   "id": "9f4a7e0e",
   "metadata": {},
   "outputs": [],
   "source": [
    "# Small toy functionality\n",
    "visualkeras.layered_view(model)"
   ]
  },
  {
   "cell_type": "markdown",
   "id": "cdb9b121",
   "metadata": {},
   "source": [
    "### Specify training procedure"
   ]
  },
  {
   "cell_type": "code",
   "execution_count": null,
   "id": "ed95cac5",
   "metadata": {},
   "outputs": [],
   "source": [
    "# Specification of loss, optimizer and metric\n",
    "# Tuning could lead to better results\n",
    "model.compile(\n",
    "    loss = tf.keras.losses.categorical_crossentropy,\n",
    "    optimizer = tf.keras.optimizers.Adam(learning_rate=0.1),\n",
    "    metrics = [\"accuracy\"]\n",
    ")"
   ]
  },
  {
   "cell_type": "markdown",
   "id": "29e94235",
   "metadata": {},
   "source": [
    "### Training"
   ]
  },
  {
   "cell_type": "code",
   "execution_count": null,
   "id": "119a11ed",
   "metadata": {},
   "outputs": [],
   "source": [
    "# Training our model\n",
    "# Tuning could lead to better results\n",
    "model.fit(X, y, epochs=5, validation_split=0.3)"
   ]
  },
  {
   "cell_type": "markdown",
   "id": "31497fe7",
   "metadata": {},
   "source": [
    "### Evaluation"
   ]
  },
  {
   "cell_type": "code",
   "execution_count": null,
   "id": "b5b88b11",
   "metadata": {},
   "outputs": [],
   "source": [
    "# Get final metric evaluation\n",
    "score = model.evaluate(X_test, y_test)\n",
    "print('Test loss:', score[0])\n",
    "print('Test accuracy:', score[1])"
   ]
  },
  {
   "cell_type": "code",
   "execution_count": null,
   "id": "8995874e",
   "metadata": {},
   "outputs": [],
   "source": [
    "# confusion matrix \n",
    "pred = model.predict(X_test).argmax(axis=1)\n",
    "true = y_test.argmax(axis=1)\n",
    "mat = tf.math.confusion_matrix(true, pred)\n",
    "ax = sn.heatmap(mat, annot=True, fmt=\"d\", xticklabels=class_dict.values(), yticklabels=class_dict.values())\n",
    "ax.set_xlabel(\"Predictions\")\n",
    "ax.set_ylabel(\"Labels\")"
   ]
  },
  {
   "cell_type": "code",
   "execution_count": null,
   "id": "50b55bc6",
   "metadata": {},
   "outputs": [],
   "source": [
    "# Let's look at some prediction errors \n",
    "pred = model.predict(X_test).argmax(axis=1)\n",
    "true = y_test.argmax(axis=1)\n",
    "\n",
    "false_prediction = X_test[pred!=true]\n",
    "false_true = true[pred!=true]\n",
    "false_pred = pred[pred!=true]\n",
    "\n",
    "vect = np.random.randint(0, len(false_prediction), 5)\n",
    "show_image(false_prediction, vect)\n",
    "print(\"True Labels:\", get_label(false_true, vect))\n",
    "print(\"False Prediction:\", get_label(false_pred, vect))"
   ]
  },
  {
   "cell_type": "code",
   "execution_count": null,
   "id": "a433d4f3",
   "metadata": {},
   "outputs": [],
   "source": []
  }
 ],
 "metadata": {
  "kernelspec": {
   "display_name": "env_tf",
   "language": "python",
   "name": "env_tf"
  },
  "language_info": {
   "codemirror_mode": {
    "name": "ipython",
    "version": 3
   },
   "file_extension": ".py",
   "mimetype": "text/x-python",
   "name": "python",
   "nbconvert_exporter": "python",
   "pygments_lexer": "ipython3",
   "version": "3.9.13"
  }
 },
 "nbformat": 4,
 "nbformat_minor": 5
}
